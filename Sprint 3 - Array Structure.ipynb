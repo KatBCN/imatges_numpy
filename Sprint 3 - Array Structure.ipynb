{
 "cells": [
  {
   "cell_type": "markdown",
   "id": "06d9b061",
   "metadata": {},
   "source": [
    "# <span style=\"color:#d50283\">IT Academy - Data Science Itinerary</span>\n",
    "## Sprint 3 - Array Structure\n",
    "### Assignment by: Kat Weissman\n",
    "\n",
    "#### Python Learning Objectives:\n",
    "- Dimensions, Shapes\n",
    "- Vectorization, Broadcasting\n",
    "- Indexing and Masking\n",
    "- Image manipulation with numpy"
   ]
  },
  {
   "cell_type": "markdown",
   "id": "6ce01116",
   "metadata": {},
   "source": [
    "*Recommended learning resources:*\n",
    "- *Numpy: https://www.w3schools.com/python/numpy/numpy_intro.asp*\n",
    "- *Broadcasting: https://numpy.org/doc/stable/user/basics.broadcasting.html?highlight=broadcasting*\n",
    "- *Indexing: https://numpy.org/doc/stable/user/basics.indexing.html?highlight=indexing*\n",
    "- *Masking: https://numpy.org/doc/stable/reference/maskedarray.generic.html*\n",
    "- *Matplotlib Image: https://matplotlib.org/stable/tutorials/introductory/images.html*\n"
   ]
  },
  {
   "cell_type": "markdown",
   "id": "8dc0493b",
   "metadata": {},
   "source": [
    "### Level 1\n",
    "We work on the concepts of the structure of a matrix, dimension, axes and vectorization that allows us to reduce the use of for loops in arithmetic or mathematical operations.\n",
    "\n",
    "#### Exercise 1\n",
    "Create a one-dimensional np.array, including at least 8 integers, data type int64. Show the size and shape of the array."
   ]
  },
  {
   "cell_type": "code",
   "execution_count": null,
   "id": "932e69da",
   "metadata": {
    "ExecuteTime": {
     "end_time": "2021-07-22T10:31:49.600112Z",
     "start_time": "2021-07-22T10:31:49.590900Z"
    }
   },
   "outputs": [],
   "source": [
    "import numpy as np\n",
    "\n",
    "#Create a one-dimensional array of 10 random integers between 0 and 100\n",
    "myArray = np.random.randint(0,101,10)\n",
    "\n",
    "#Display some of the attributes of this array, like type, dimensions, size, and shape.\n",
    "print(\"This is my numpy array:\",myArray)\n",
    "print(\"The elements of my array are of type:\", myArray.dtype)\n",
    "print(\"My array has\", myArray.ndim, \"dimension.\")\n",
    "print(\"My array is of size:\", myArray.size)\n",
    "print(\"My array is of shape:\", myArray.shape)"
   ]
  },
  {
   "cell_type": "markdown",
   "id": "031aef77",
   "metadata": {
    "ExecuteTime": {
     "end_time": "2021-07-21T13:46:54.019008Z",
     "start_time": "2021-07-21T13:46:54.004471Z"
    }
   },
   "source": [
    "#### Exercise 2\n",
    "From the array in Exercise 1, calculate the mean value of the values entered and subtract the resulting average from each of the values in the array."
   ]
  },
  {
   "cell_type": "code",
   "execution_count": null,
   "id": "75ef5462",
   "metadata": {
    "ExecuteTime": {
     "end_time": "2021-07-22T10:31:49.630087Z",
     "start_time": "2021-07-22T10:31:49.623896Z"
    }
   },
   "outputs": [],
   "source": [
    "mean = myArray.mean()\n",
    "myArray1 = myArray - mean\n",
    "print(myArray1)"
   ]
  },
  {
   "cell_type": "markdown",
   "id": "ec0585b0",
   "metadata": {},
   "source": [
    "#### Exercise 3\n",
    "Create a two-dimensional array with a shape of 5 x 5. Extract the maximum value of the array, and the maximum values of each of its axes."
   ]
  },
  {
   "cell_type": "code",
   "execution_count": null,
   "id": "1877b9c1",
   "metadata": {
    "ExecuteTime": {
     "end_time": "2021-07-22T10:31:49.660949Z",
     "start_time": "2021-07-22T10:31:49.652660Z"
    }
   },
   "outputs": [],
   "source": [
    "#Set the desired size of the array, then create an array of random integers at the specified size.\n",
    "size = (5,5)\n",
    "myArray2 = np.random.randint(0,101, size=size)\n",
    "print (\"My\", size[0], \"x\", size[1], \"array:\")\n",
    "print (myArray2)"
   ]
  },
  {
   "cell_type": "code",
   "execution_count": null,
   "id": "f4ab2dc9",
   "metadata": {
    "ExecuteTime": {
     "end_time": "2021-07-22T10:31:49.681510Z",
     "start_time": "2021-07-22T10:31:49.674081Z"
    }
   },
   "outputs": [],
   "source": [
    "print (\"The maximum value of my array is:\", np.max(myArray2))"
   ]
  },
  {
   "cell_type": "code",
   "execution_count": null,
   "id": "dfffe217",
   "metadata": {
    "ExecuteTime": {
     "end_time": "2021-07-22T10:31:49.734447Z",
     "start_time": "2021-07-22T10:31:49.711390Z"
    }
   },
   "outputs": [],
   "source": [
    "#Axis 0 runs vertically across the rows\n",
    "print(\"The maximum value of each column:\")\n",
    "print(np.amax(myArray2, 0))"
   ]
  },
  {
   "cell_type": "code",
   "execution_count": null,
   "id": "d3e12b54",
   "metadata": {
    "ExecuteTime": {
     "end_time": "2021-07-22T10:31:49.745749Z",
     "start_time": "2021-07-22T10:31:49.739161Z"
    }
   },
   "outputs": [],
   "source": [
    "#Axis 1 runs horizontally across the columns\n",
    "print(\"The maximum value of each row:\")\n",
    "print(np.amax(myArray2, 1))"
   ]
  },
  {
   "cell_type": "markdown",
   "id": "f3e4a9ae",
   "metadata": {},
   "source": [
    "### Level 2\n",
    "Concepts of the structure of an array, broadcasting, indexing, masking.\n",
    "\n",
    "#### Exercise 4\n",
    "Show examples of different arrays, the fundamental rule of Broadcasting that says, \"arrays can be transmitted / broadcast if their dimensions match or if one of the arrays has a size of 1.\""
   ]
  },
  {
   "cell_type": "code",
   "execution_count": null,
   "id": "77deaa20",
   "metadata": {
    "ExecuteTime": {
     "end_time": "2021-07-22T10:31:49.764375Z",
     "start_time": "2021-07-22T10:31:49.755739Z"
    }
   },
   "outputs": [],
   "source": [
    "#Arrays A & B have equivalent first dimensions, and the second dimesnion of B is 1\n",
    "A = np.random.randint(0,11, size=(3,3))\n",
    "B = np.random.randint(0,11, size=(3,1))\n",
    "print(\"Array A:\")\n",
    "print(A)\n",
    "print(\"Array B:\")\n",
    "print(B)\n",
    "#Arithmetic is performed element-wise.\n",
    "print(\"The product of A & B:\")\n",
    "print(A*B)\n",
    "print(\"The sum of A & B:\")\n",
    "print(A+B)"
   ]
  },
  {
   "cell_type": "code",
   "execution_count": null,
   "id": "1dd5d981",
   "metadata": {
    "ExecuteTime": {
     "end_time": "2021-07-22T10:31:49.785896Z",
     "start_time": "2021-07-22T10:31:49.778338Z"
    }
   },
   "outputs": [],
   "source": [
    "#Arrays A & C have equivalent second dimensions, and the first dimesnion of C is 1\n",
    "C = np.random.randint(0,11, size=(1,3))\n",
    "print(\"Array A:\")\n",
    "print(A)\n",
    "print(\"Array C:\")\n",
    "print(C)\n",
    "#Arithmetic is performed element-wise.\n",
    "print(\"The product of A & C:\")\n",
    "print(A*C)\n",
    "print(\"The sum of A & C:\")\n",
    "print(A+C)"
   ]
  },
  {
   "cell_type": "code",
   "execution_count": null,
   "id": "13a51de4",
   "metadata": {
    "ExecuteTime": {
     "end_time": "2021-07-22T10:31:49.817236Z",
     "start_time": "2021-07-22T10:31:49.803363Z"
    }
   },
   "outputs": [],
   "source": [
    "#Arrays A & D do not have equivalent second dimensions, and neither is 1, so the operation will produce an error.\n",
    "D = np.random.randint(0,11, size=(3,2))\n",
    "print(\"Array A:\")\n",
    "print(A)\n",
    "print(\"Array D:\")\n",
    "print(D)\n",
    "print(\"The product of A & D:\")\n",
    "print(A*D)\n",
    "print(\"The sum of A & D:\")\n",
    "print(A+D)"
   ]
  },
  {
   "cell_type": "markdown",
   "id": "41219c3d",
   "metadata": {},
   "source": [
    "The error message includes useful feedback about the reason the arrays could not be broadcast.\n",
    "\n",
    "```ValueError: operands could not be broadcast together with shapes (3,3) (3,2) ```\n"
   ]
  },
  {
   "cell_type": "markdown",
   "id": "e2f93c0d",
   "metadata": {},
   "source": [
    "#### Exercise 5\n",
    "Use Indexing to extract the values of a column and a row from an array. Add up their values."
   ]
  },
  {
   "cell_type": "code",
   "execution_count": null,
   "id": "9b501b6f",
   "metadata": {
    "ExecuteTime": {
     "end_time": "2021-07-22T10:31:49.929050Z",
     "start_time": "2021-07-22T10:31:49.925062Z"
    }
   },
   "outputs": [],
   "source": [
    "print(\"myArray2 will be used for the following examples:\")\n",
    "print(myArray2)"
   ]
  },
  {
   "cell_type": "code",
   "execution_count": null,
   "id": "39255bb7",
   "metadata": {
    "ExecuteTime": {
     "end_time": "2021-07-22T10:31:49.942040Z",
     "start_time": "2021-07-22T10:31:49.933296Z"
    }
   },
   "outputs": [],
   "source": [
    "#indexing can be used to extract a whole row\n",
    "row2 = myArray2[1]\n",
    "#indexing can also be used to extract a whole column\n",
    "col4 = myArray2[:,3]\n",
    "print(\"2nd row of myArray2:\")\n",
    "print(row2)\n",
    "print(\"4th column of myArray2:\")\n",
    "print(col4)\n",
    "print(\"The sum of the 2nd row and the 4th column:\")\n",
    "print(row2 + col4)"
   ]
  },
  {
   "cell_type": "code",
   "execution_count": null,
   "id": "13c2a324",
   "metadata": {
    "ExecuteTime": {
     "end_time": "2021-07-22T10:31:49.956076Z",
     "start_time": "2021-07-22T10:31:49.946201Z"
    },
    "scrolled": true
   },
   "outputs": [],
   "source": [
    "#Indexing can also be used to extract individual elements from an array.\n",
    "print(\"1st row, 4th column:\", myArray2[0,3])\n",
    "print(\"2nd row, 1st column:\", myArray2[1,0])\n",
    "print(\"3rd row, 5th column:\", myArray2[2,4])\n",
    "print(\"4th row, 2nd column:\", myArray2[3,1])\n",
    "print(\"The sum of these values:\", myArray2[0,3]+myArray2[1,0]+myArray2[2,4]+myArray2[3,1])"
   ]
  },
  {
   "cell_type": "markdown",
   "id": "30f1469c",
   "metadata": {},
   "source": [
    "#### Exercise 6\n",
    "Mask an array by performing a vectorized Boolean calculation, taking each element and checking if it is evenly divided by four.\n",
    "\n",
    "This returns a mask array in the same way as the element-wise results of a calculation."
   ]
  },
  {
   "cell_type": "code",
   "execution_count": null,
   "id": "65c95d22",
   "metadata": {
    "ExecuteTime": {
     "end_time": "2021-07-22T10:31:49.969606Z",
     "start_time": "2021-07-22T10:31:49.962343Z"
    }
   },
   "outputs": [],
   "source": [
    "print (myArray2)"
   ]
  },
  {
   "cell_type": "code",
   "execution_count": null,
   "id": "616dc23a",
   "metadata": {
    "ExecuteTime": {
     "end_time": "2021-07-22T10:31:49.980848Z",
     "start_time": "2021-07-22T10:31:49.973908Z"
    }
   },
   "outputs": [],
   "source": [
    "#Create a boolean mask that marks elements as True if they are evenly divided by 4.\n",
    "myMask = (myArray2 % 4 == 0)\n",
    "print(myMask)"
   ]
  },
  {
   "cell_type": "markdown",
   "id": "c5608b79",
   "metadata": {},
   "source": [
    "#### Exercise 7\n",
    "Then use this mask to index the original number array. This causes the array to lose its original shape, reducing it to one dimension, but you still get the data you are looking for."
   ]
  },
  {
   "cell_type": "code",
   "execution_count": null,
   "id": "a2aab208",
   "metadata": {
    "ExecuteTime": {
     "end_time": "2021-07-22T10:31:49.993973Z",
     "start_time": "2021-07-22T10:31:49.986131Z"
    }
   },
   "outputs": [],
   "source": [
    "print(myArray2[myMask])"
   ]
  },
  {
   "cell_type": "markdown",
   "id": "008bfbaf",
   "metadata": {},
   "source": [
    "Alternatively, we can use the numpy module for Masked Arrays which will preserve the shape of the original array.\n",
    "\n",
    "\"When an element of the mask is False, the corresponding element of the associated array is valid and is said to be unmasked. When an element of the mask is True, the corresponding element of the associated array is said to be masked (invalid).\" - https://numpy.org/doc/stable/reference/maskedarray.generic.html\n",
    "\n",
    "The numpy.ma module produces a mask that has opposite boolean values of the mask created for indexing in the previous exercise."
   ]
  },
  {
   "cell_type": "code",
   "execution_count": null,
   "id": "4bbf081d",
   "metadata": {
    "ExecuteTime": {
     "end_time": "2021-07-22T10:31:50.012306Z",
     "start_time": "2021-07-22T10:31:50.004538Z"
    },
    "scrolled": true
   },
   "outputs": [],
   "source": [
    "#Use the numpy masked array method to create a masked array using the module function as the mask.\n",
    "import numpy.ma as ma\n",
    "npMaskedArray2 = ma.masked_array(myArray2, mask = myArray2 % 4)\n",
    "print(\"Mask created by numpy.ma module:\")\n",
    "print(npMaskedArray2.mask)\n",
    "print(\"The masked array created by the numpy.ma module:\")\n",
    "print(npMaskedArray2)"
   ]
  },
  {
   "cell_type": "markdown",
   "id": "a9702f68",
   "metadata": {},
   "source": [
    "### Level 3\n",
    "Image manipulation with Matplotlib.\n",
    "\n",
    "You will upload any image (jpg, png) with Matplotlib. note that RGB images (Red, Green, Blue) are really only widths × heights × 3 arrays (three channels Red, Green, and Blue), one for each color of int8 integers,\n",
    "\n",
    "Manipulate these bytes and use Matplotlib again to save the modified image once you're done.\n",
    "\n",
    "Help: Import, import matplotlib.image as mpimg. study the mpimg.imread() method\n",
    "\n",
    "#### Exercise 8\n",
    "Show what happens when the Green G or Blue B channel is removed. Use indexing to select the channel you want to remove.\n",
    "\n",
    "Use the method, mpimg.imsave() of the imported library, to save the modified images and upload them to your github repository."
   ]
  },
  {
   "cell_type": "code",
   "execution_count": null,
   "id": "6d11ff2d",
   "metadata": {
    "ExecuteTime": {
     "end_time": "2021-07-22T10:31:50.028732Z",
     "start_time": "2021-07-22T10:31:50.024423Z"
    }
   },
   "outputs": [],
   "source": [
    "import matplotlib.image as mpimg\n",
    "import matplotlib.pyplot as plt"
   ]
  },
  {
   "cell_type": "code",
   "execution_count": null,
   "id": "3521e38a",
   "metadata": {
    "ExecuteTime": {
     "end_time": "2021-07-22T10:31:50.066262Z",
     "start_time": "2021-07-22T10:31:50.047541Z"
    }
   },
   "outputs": [],
   "source": [
    "rgbImg = mpimg.imread('IMG_Logan.jpg')"
   ]
  },
  {
   "cell_type": "code",
   "execution_count": null,
   "id": "5621aaf8",
   "metadata": {
    "ExecuteTime": {
     "end_time": "2021-07-22T10:31:50.076283Z",
     "start_time": "2021-07-22T10:31:50.071350Z"
    }
   },
   "outputs": [],
   "source": [
    "print(rgbImg.shape)"
   ]
  },
  {
   "cell_type": "code",
   "execution_count": null,
   "id": "a83bfb5b",
   "metadata": {
    "ExecuteTime": {
     "end_time": "2021-07-22T10:31:50.500561Z",
     "start_time": "2021-07-22T10:31:50.094694Z"
    }
   },
   "outputs": [],
   "source": [
    "imgplot = plt.imshow(rgbImg)"
   ]
  },
  {
   "cell_type": "code",
   "execution_count": null,
   "id": "3e23a4ca",
   "metadata": {
    "ExecuteTime": {
     "end_time": "2021-07-22T10:31:50.934956Z",
     "start_time": "2021-07-22T10:31:50.505241Z"
    },
    "scrolled": false
   },
   "outputs": [],
   "source": [
    "#Remove the blue channel from the original image\n",
    "rgImg = rgbImg.copy()\n",
    "rgImg[:,:,2] = 0\n",
    "rgImgPlot = plt.imshow(rgImg)\n",
    "mpimg.imsave(\"rgImg.jpg\",rgImg)"
   ]
  },
  {
   "cell_type": "code",
   "execution_count": null,
   "id": "4274ccc3",
   "metadata": {
    "ExecuteTime": {
     "end_time": "2021-07-22T10:31:51.290009Z",
     "start_time": "2021-07-22T10:31:50.941765Z"
    },
    "scrolled": true
   },
   "outputs": [],
   "source": [
    "#Remove the green channel from the original image\n",
    "rbImg = rgbImg.copy()\n",
    "rbImg[:,:,1] = 0\n",
    "rbImgPlot = plt.imshow(rbImg)\n",
    "mpimg.imsave(\"rbImg.jpg\",rbImg)"
   ]
  },
  {
   "cell_type": "code",
   "execution_count": null,
   "id": "ff3c3dba",
   "metadata": {
    "ExecuteTime": {
     "end_time": "2021-07-22T10:31:51.673444Z",
     "start_time": "2021-07-22T10:31:51.303288Z"
    }
   },
   "outputs": [],
   "source": [
    "#Remove the red channel from the original image\n",
    "gbImg = rgbImg.copy()\n",
    "gbImg[:,:,0] = 0\n",
    "gbImgPlot = plt.imshow(gbImg)\n",
    "mpimg.imsave(\"gbImg.jpg\",gbImg)"
   ]
  },
  {
   "cell_type": "code",
   "execution_count": null,
   "id": "ab3f56b8",
   "metadata": {},
   "outputs": [],
   "source": []
  }
 ],
 "metadata": {
  "kernelspec": {
   "display_name": "Python 3",
   "language": "python",
   "name": "python3"
  },
  "language_info": {
   "codemirror_mode": {
    "name": "ipython",
    "version": 3
   },
   "file_extension": ".py",
   "mimetype": "text/x-python",
   "name": "python",
   "nbconvert_exporter": "python",
   "pygments_lexer": "ipython3",
   "version": "3.8.8"
  },
  "nbTranslate": {
   "displayLangs": [
    "es",
    "en"
   ],
   "hotkey": "alt-t",
   "langInMainMenu": true,
   "sourceLang": "en",
   "targetLang": "es",
   "useGoogleTranslate": true
  },
  "varInspector": {
   "cols": {
    "lenName": 16,
    "lenType": 16,
    "lenVar": 40
   },
   "kernels_config": {
    "python": {
     "delete_cmd_postfix": "",
     "delete_cmd_prefix": "del ",
     "library": "var_list.py",
     "varRefreshCmd": "print(var_dic_list())"
    },
    "r": {
     "delete_cmd_postfix": ") ",
     "delete_cmd_prefix": "rm(",
     "library": "var_list.r",
     "varRefreshCmd": "cat(var_dic_list()) "
    }
   },
   "types_to_exclude": [
    "module",
    "function",
    "builtin_function_or_method",
    "instance",
    "_Feature"
   ],
   "window_display": false
  }
 },
 "nbformat": 4,
 "nbformat_minor": 5
}
